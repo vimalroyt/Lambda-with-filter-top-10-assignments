{
 "cells": [
  {
   "cell_type": "markdown",
   "id": "e04b487b-330a-4b92-b6e3-048ac333a780",
   "metadata": {},
   "source": [
    "# lambda with filter()"
   ]
  },
  {
   "cell_type": "code",
   "execution_count": 3,
   "id": "cf8a2fe6-b4f6-4424-89be-5b9f3ca3a684",
   "metadata": {},
   "outputs": [
    {
     "data": {
      "text/plain": [
       "[2, 4, 6, 8]"
      ]
     },
     "execution_count": 3,
     "metadata": {},
     "output_type": "execute_result"
    }
   ],
   "source": [
    "# lambda with filter(function, iterable)\n",
    "nums=[1,2,3,4,5,6,8,7]\n",
    "evens = list(filter(lambda x: x % 2 == 0, nums)) #require to save it as either list, tuple or set\n",
    "evens"
   ]
  },
  {
   "cell_type": "markdown",
   "id": "2719da45-1468-4cc4-bb9a-4380f945eec5",
   "metadata": {},
   "source": [
    "## 🔹 **10 Questions: Lambda with `filter()`**\n",
    "\n",
    "Each task uses a lambda function with `filter()` to **select** items.\n",
    "\n",
    "1. Keep only even numbers from `[1, 2, 3, 4, 5, 6]`.\n",
    "2. Select numbers greater than 50 from `[20, 60, 75, 40]`.\n",
    "3. From `['cat', 'dog', 'elephant']`, filter words longer than 3 letters.\n",
    "4. Keep only positive numbers from `[-5, 0, 4, 8, -2]`.\n",
    "5. Filter out only strings that start with `'a'` from `['apple', 'banana', 'avocado']`.\n",
    "6. From `[10, 15, 30, 45]`, filter numbers divisible by 15.\n",
    "7. From `['hi', '', 'hello', '', 'world']`, remove empty strings.\n",
    "8. Keep only names with all lowercase in `['john', 'John', 'DOE']`.\n",
    "9. From list of prices `[500, 1200, 750, 400]`, filter prices >= ₹1000.\n",
    "10. Filter only palindromes in `['madam', 'racecar', 'apple', 'noon']`.\n"
   ]
  },
  {
   "cell_type": "code",
   "execution_count": 5,
   "id": "f4974d77-4421-4556-8d63-a4973d63aa06",
   "metadata": {},
   "outputs": [
    {
     "name": "stdout",
     "output_type": "stream",
     "text": [
      "[2, 4, 6]\n"
     ]
    }
   ],
   "source": [
    "#1. Keep only even numbers from [1, 2, 3, 4, 5, 6].\n",
    "num=[1, 2, 3, 4, 5, 6]\n",
    "even=list(filter(lambda x: x%2==0,num))\n",
    "print(even)"
   ]
  },
  {
   "cell_type": "code",
   "execution_count": null,
   "id": "0ff1726f-ae96-47aa-9264-3a5abc0eb9e5",
   "metadata": {},
   "outputs": [],
   "source": []
  },
  {
   "cell_type": "code",
   "execution_count": 7,
   "id": "445032a7-1c6a-49af-bce4-fbf120174e60",
   "metadata": {},
   "outputs": [
    {
     "name": "stdout",
     "output_type": "stream",
     "text": [
      "[60, 75, 40]\n"
     ]
    }
   ],
   "source": [
    "#2. Select numbers greater than 50 from [20, 60, 75, 40].\n",
    "num= [20, 60, 75, 40]\n",
    "num_above50= list(filter(lambda x: x>20,num))\n",
    "print(num_above50)"
   ]
  },
  {
   "cell_type": "code",
   "execution_count": null,
   "id": "6870baf1-a931-45dd-8620-828da9b25797",
   "metadata": {},
   "outputs": [],
   "source": []
  },
  {
   "cell_type": "code",
   "execution_count": 8,
   "id": "2a0e14ee-db91-4050-95be-36be08ff3b81",
   "metadata": {},
   "outputs": [
    {
     "name": "stdout",
     "output_type": "stream",
     "text": [
      "['elephant']\n"
     ]
    }
   ],
   "source": [
    "#3. From ['cat', 'dog', 'elephant'], filter words longer than 3 letters.\n",
    "lst=['cat', 'dog', 'elephant']\n",
    "filter_len=list(filter(lambda x: len(x)>3,lst))\n",
    "print(filter_len)"
   ]
  },
  {
   "cell_type": "code",
   "execution_count": null,
   "id": "1add62b4-2a48-4d9f-90e8-30bf6f785cc0",
   "metadata": {},
   "outputs": [],
   "source": []
  },
  {
   "cell_type": "code",
   "execution_count": 9,
   "id": "4abc010e-af04-4c9b-9131-eb071104e75b",
   "metadata": {},
   "outputs": [
    {
     "name": "stdout",
     "output_type": "stream",
     "text": [
      "[4, 8]\n"
     ]
    }
   ],
   "source": [
    "#4. Keep only positive numbers from [-5, 0, 4, 8, -2].\n",
    "num=[-5, 0, 4, 8, -2]\n",
    "filter_positive_num= list(filter(lambda x: x>0,num))\n",
    "print(filter_positive_num)"
   ]
  },
  {
   "cell_type": "code",
   "execution_count": null,
   "id": "b178a8fb-eece-4d9b-8a7b-c7193848ccfe",
   "metadata": {},
   "outputs": [],
   "source": []
  },
  {
   "cell_type": "code",
   "execution_count": 10,
   "id": "6d36f807-68d4-404f-a693-a50f4f586cb4",
   "metadata": {},
   "outputs": [
    {
     "name": "stdout",
     "output_type": "stream",
     "text": [
      "['apple', 'avocado']\n"
     ]
    }
   ],
   "source": [
    "#5. Filter out only strings that start with 'a' from ['apple', 'banana', 'avocado'].\n",
    "lst=['apple', 'banana', 'avocado']\n",
    "filter_starts_with_a= list(filter(lambda x: x.startswith(\"a\"),lst))\n",
    "print(filter_starts_with_a)"
   ]
  },
  {
   "cell_type": "code",
   "execution_count": null,
   "id": "a35fcc90-47ee-40a2-8b31-9de292187956",
   "metadata": {},
   "outputs": [],
   "source": []
  },
  {
   "cell_type": "code",
   "execution_count": 11,
   "id": "28cd1ff9-ab21-4a9c-9baa-b2447a24bfaa",
   "metadata": {},
   "outputs": [
    {
     "name": "stdout",
     "output_type": "stream",
     "text": [
      "[10, 15, 30, 45]\n"
     ]
    }
   ],
   "source": [
    "#6. From [10, 15, 30, 45], filter numbers divisible by 15.\n",
    "num=[10, 15, 30, 45]\n",
    "divisible_by_15= list(filter(lambda x: x%5==0,num))\n",
    "print(divisible_by_15)"
   ]
  },
  {
   "cell_type": "code",
   "execution_count": 13,
   "id": "201845f9-c8bc-4950-8edb-76c056363426",
   "metadata": {},
   "outputs": [
    {
     "name": "stdout",
     "output_type": "stream",
     "text": [
      "[10, 15, 30, 45]\n"
     ]
    }
   ],
   "source": [
    "# Another example\n",
    "num=[10, 15, 30, 45,1,7,3,4,9]\n",
    "divisible_by_15= list(filter(lambda x: x%5==0,num))\n",
    "print(divisible_by_15)"
   ]
  },
  {
   "cell_type": "code",
   "execution_count": null,
   "id": "5060de3c-2b69-456c-a0f4-248a2021510b",
   "metadata": {},
   "outputs": [],
   "source": []
  },
  {
   "cell_type": "code",
   "execution_count": 28,
   "id": "128e7728-e8cd-44a4-92ba-e29416e97525",
   "metadata": {},
   "outputs": [
    {
     "name": "stdout",
     "output_type": "stream",
     "text": [
      "['hi', 'hello', 'world']\n"
     ]
    }
   ],
   "source": [
    "# A bit logical\n",
    "#7. From ['hi', '', 'hello', '', 'world'], remove empty strings.\n",
    "lst=['hi', '', 'hello', '', 'world']\n",
    "remove_empty = list(filter(lambda x: x!=\"\",lst))\n",
    "print(remove_empty)"
   ]
  },
  {
   "cell_type": "code",
   "execution_count": null,
   "id": "f0000e3d-7e04-4c7e-ba73-0bd6ab01db09",
   "metadata": {},
   "outputs": [],
   "source": []
  },
  {
   "cell_type": "code",
   "execution_count": 39,
   "id": "a0c56d16-7eea-435f-bb31-c0589323bee1",
   "metadata": {},
   "outputs": [
    {
     "name": "stdout",
     "output_type": "stream",
     "text": [
      "['john', 'John']\n"
     ]
    }
   ],
   "source": [
    "#8. Keep only names with all lowercase in ['john', 'John', 'DOE'].\n",
    "lst=['john', 'John', 'DOE']\n",
    "lowerr=list(filter(lambda x: x!=x.upper(),lst))\n",
    "print(lowerr)"
   ]
  },
  {
   "cell_type": "code",
   "execution_count": null,
   "id": "332f9e87-ef03-4689-8d89-415e112326bb",
   "metadata": {},
   "outputs": [],
   "source": []
  },
  {
   "cell_type": "code",
   "execution_count": 42,
   "id": "d5d662ec-d1b0-4ea4-a925-1f148a877109",
   "metadata": {},
   "outputs": [
    {
     "name": "stdout",
     "output_type": "stream",
     "text": [
      "[1200]\n"
     ]
    }
   ],
   "source": [
    "#9. From list of prices [500, 1200, 750, 400], filter prices >= ₹1000.\n",
    "lst=[500, 1200, 750, 400]\n",
    "greater_than_1000= list(filter(lambda x: x>=1000,lst))\n",
    "print(greater_than_1000)"
   ]
  },
  {
   "cell_type": "code",
   "execution_count": null,
   "id": "8a696104-1289-49c3-9de5-de9030d097a5",
   "metadata": {},
   "outputs": [],
   "source": []
  },
  {
   "cell_type": "code",
   "execution_count": 57,
   "id": "8457d698-5f3a-414c-ba8b-fd5eef4e2e32",
   "metadata": {},
   "outputs": [
    {
     "name": "stdout",
     "output_type": "stream",
     "text": [
      "['madam', 'racecar', 'noon']\n"
     ]
    }
   ],
   "source": [
    "#10. Filter only palindromes in ['madam', 'racecar', 'apple', 'noon'].\n",
    "lst=['madam', 'racecar', 'apple', 'noon']\n",
    "palindromes=list(filter(lambda x: x[0]==x[-1],lst))\n",
    "print(palindromes)"
   ]
  },
  {
   "cell_type": "code",
   "execution_count": null,
   "id": "13b4e29a-2f5e-4ca4-8408-8278e7ddef58",
   "metadata": {},
   "outputs": [],
   "source": []
  }
 ],
 "metadata": {
  "kernelspec": {
   "display_name": "Python 3 (ipykernel)",
   "language": "python",
   "name": "python3"
  },
  "language_info": {
   "codemirror_mode": {
    "name": "ipython",
    "version": 3
   },
   "file_extension": ".py",
   "mimetype": "text/x-python",
   "name": "python",
   "nbconvert_exporter": "python",
   "pygments_lexer": "ipython3",
   "version": "3.12.4"
  }
 },
 "nbformat": 4,
 "nbformat_minor": 5
}
